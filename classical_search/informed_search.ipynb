{
 "cells": [
  {
   "cell_type": "markdown",
   "metadata": {},
   "source": [
    "# Informed (heuristic) Search\n",
    "\n",
    "Uninformed search deals with cases in which there is no information on the graph (beyond the numebr of steps or the distance) *regarding the goal node*. There, we had a function $g(n)$ (distance-based, for example) that was used to expand the search nodes and that in generally measures the (known) cost to reach node $n$ from the starting node. It is, therefore, strictly not a local function.\n",
    "\n",
    "If, instead, we have an heuristic estimation of where the goal node is, we can use such an approximation to optimize the search. In this sense, there exists an **evaluation function** $f(n)$, constructed as a cost, that will be used to determine which node is expanded first (namely, the one with *lowest* $f(n)$). The function $f(n)$ is a sum of the old $g(n)$ and a heuristic function $h(n)$, the latter representing an estimated cost of the cheapest path from the state at node $n$ to a goal state. \n",
    "\n",
    "Function $h(n)$ is almost arbitrary and its only constraint is that $h(n)=0$ if $n$ is the goal node. But, depending on the form that we choose for $h(n)$, we will be able to make the search process more effective or even no effective at all.\n"
   ]
  },
  {
   "cell_type": "markdown",
   "metadata": {},
   "source": [
    "## Greedy best-first search\n",
    "\n",
    "Tries to expand based only on what it is expected to be best: the heuristic $h(n)$ function. This implies that this type of search uses $$f(n) = h(n)$$\n",
    "\n",
    "For example, for a shortest-path finding algorithm, we could consider $h(n)$ to be the straight-line distance between node $n$ and the goal node. This is definitely a good heuristic function, although, of course, it could be available or not depending on the application.\n",
    "\n",
    "This algorithm is ensured to find a solution but not an optimal one, for it reaches the goal node in a greedy and therefore *local* way. For example, returning to the shortets-path finding algorithm, the greedy best-first search algorithm based on the straight-line distance will reach the goal node based on straigh-line distances of each node $n$ it passes through. Therefore, even though it finds a solution (reaches the goal node), it is not necessarily optimal, as there could be other paths with overall less distance from start node to goal node that the algorithm will overlook."
   ]
  },
  {
   "cell_type": "markdown",
   "metadata": {},
   "source": [
    "## A* algorithm\n",
    "\n",
    "This algorithm combines the cost to reach a node $g(n)$ with the heuristic function $h(n)$. Therefore $$ f(n) = g(n) +h(n)$$. So $f(n)$ can be interpreted as *the estimated cost of the cheapest solution through $n$.* So it becomes very natural (And very effective) to try to expand first the node with lowest $g(n) +h(n)$. \n",
    "\n",
    "As it turns out, A* algorithm is not only optimal but also complete. It is basically a uniform-cost search algorithm, but using $f(n)$ instead of just $g(n)$ to expand the search."
   ]
  },
  {
   "cell_type": "markdown",
   "metadata": {},
   "source": []
  }
 ],
 "metadata": {
  "language_info": {
   "name": "python"
  },
  "orig_nbformat": 4
 },
 "nbformat": 4,
 "nbformat_minor": 2
}
