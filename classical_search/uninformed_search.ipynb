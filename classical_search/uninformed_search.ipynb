{
 "cells": [
  {
   "cell_type": "markdown",
   "metadata": {},
   "source": [
    "# Uninformed Search\n",
    "\n",
    "This is the most basic form of seach.It implies trying to reach a goal state with no knowledge of where such goal state is.\n",
    "\n",
    "Threfore, every possible strategy will just move from one node to another and check whether we reached the goal state or not. It will keep expanding until we reach the goal state.\n",
    "\n",
    "We have an intrinsic measure of distance (or better, a *cost*) within a graph of nodes and paths, even if the absence of knowledge regarding the gold state: the number of steps associated to a given path. We can also consider adding other measure of distance given for example by the number of kilometers between the start state and our current state.\n",
    "\n",
    "Given a graph with a cost defined for the paths, we can imagine 3 ways of searching.\n",
    "\n",
    "- **Breadth-First Search (BFS)**: We start out with the root node and then expand the so-called frotier of examined nodes by considering other nodes that have the same *depth*. Here, the same depth means that the distance between the root node and each of the next-to-consider nodes is the same. In terms of the picture of a tree, this implies considering first expansions of the same depth. When there are ties (i.e. two nodes are one step away from current node) we can just pick one at random or use some rule of thumb.\n",
    "\n",
    "- **Depth-First Search (DFS)**: We expand the *deepest* node in the current frontier of the tree. This means that the search proceeds to the deepest level of the current node, up to the point where nodes have no successors. As those nodes are exanded, they are removed from the frontier, so then the algorithm backs up to the next deepest node. \n",
    "\n",
    "- **Uniform Cost Seach**: Here the edges have a custom-defined cost and the expansion takes this into account, by expanding first the paths with the lowest cost $g(n)$. In fact, BFS can be considered as an optimal uniform cost search algorithm when all the costs are equal (the cost of a path is then directly proportional to the number of steps in the path).\n",
    "\n",
    "\n",
    "![BFSvsDFS](./DFSBFS.png)\n",
    "\n",
    "The implementation of Uninformed Search in pseudocode is a follows:\n",
    "\n",
    "\n",
    "```function Graph.Search(problem):\n",
    "  frontier = {[initial]}; explored={}\n",
    "  loop:\n",
    "    if frontier is empty: return FAIL\n",
    "    path = remove.choice(frontier)\n",
    "    s = path.end; add s to explored\n",
    "    if s is a goal: return path\n",
    "    for a in actions:\n",
    "        add[path + a -> Result(s,a)]\n",
    "        to frontier\n",
    "        unless Result(s,a) in frontier or explored\n",
    "```\n",
    "\n",
    "So we first have a frontier initialized with with the root node as the only node. Then, we remove a path from the frontier and consider the state `s` that the removed path leads to. Then we add `s` to the explored list. If `s` is the goal state, we return the path. If not, we add to the frontier all the paths that can be constructed starting from `s` and adding each and all of the possible actions `a` (we do this unless `s+a` is in the explored list or is already in the frontier).\n",
    "\n",
    "The difference between BFS and DFS is simply the path that is removed from the frontier at each iteration, i.e. the particular function or routine that we apply the line `path = remove.choice(frontier)` above. \n"
   ]
  },
  {
   "cell_type": "markdown",
   "metadata": {},
   "source": [
    "## Graph"
   ]
  },
  {
   "cell_type": "code",
   "execution_count": 4,
   "metadata": {},
   "outputs": [],
   "source": [
    "class GraphNode(object):\n",
    "    def __init__(self, val):\n",
    "        self.value = val\n",
    "        self.children = []\n",
    "        \n",
    "    def add_child(self, new_node):\n",
    "        self.children.append(new_node)\n",
    "    \n",
    "    def remove_child(self, del_node):\n",
    "        if del_node in self.children:\n",
    "            self.children.remove(del_node)\n",
    "\n",
    "class Graph(object):\n",
    "    def __init__(self, node_list):\n",
    "        self.nodes = node_list\n",
    "        \n",
    "    def add_edge(self, node1, node2):\n",
    "        if(node1 in self.nodes and node2 in self.nodes):\n",
    "            node1.add_child(node2)\n",
    "            node2.add_child(node1)\n",
    "            \n",
    "    def remove_edge(self, node1, node2):\n",
    "        if(node1 in self.nodes and node2 in self.nodes):\n",
    "            node1.remove_child(node2)\n",
    "            node2.remove_child(node1)"
   ]
  },
  {
   "cell_type": "code",
   "execution_count": 224,
   "metadata": {},
   "outputs": [],
   "source": [
    "# create a graph\n",
    "nodeG = GraphNode('G')\n",
    "nodeR = GraphNode('R')\n",
    "nodeA = GraphNode('A')\n",
    "nodeP = GraphNode('P')\n",
    "nodeH = GraphNode('H')\n",
    "nodeS = GraphNode('S')\n",
    "\n",
    "graph1 = Graph([nodeS, nodeH, nodeG, nodeP, nodeR, nodeA]) \n",
    "graph1.add_edge(nodeG, nodeR)\n",
    "graph1.add_edge(nodeA, nodeR)\n",
    "graph1.add_edge(nodeA, nodeG)\n",
    "graph1.add_edge(nodeR, nodeP)\n",
    "graph1.add_edge(nodeH, nodeG)\n",
    "graph1.add_edge(nodeH, nodeP)\n",
    "graph1.add_edge(nodeS, nodeR)"
   ]
  },
  {
   "cell_type": "code",
   "execution_count": 6,
   "metadata": {},
   "outputs": [
    {
     "name": "stdout",
     "output_type": "stream",
     "text": [
      "parent node =  S\n",
      "children\n",
      "R \n",
      "\n",
      "parent node =  H\n",
      "children\n",
      "G P \n",
      "\n",
      "parent node =  G\n",
      "children\n",
      "R A H \n",
      "\n",
      "parent node =  P\n",
      "children\n",
      "R H \n",
      "\n",
      "parent node =  R\n",
      "children\n",
      "G A P S \n",
      "\n",
      "parent node =  A\n",
      "children\n",
      "R G \n",
      "\n"
     ]
    }
   ],
   "source": [
    "# To verify that the graph is created accurately.\n",
    "# Let's just print all the parent nodes and child nodes.\n",
    "for each in graph1.nodes:\n",
    "    print('parent node = ',each.value,end='\\nchildren\\n')\n",
    "    for each in each.children:\n",
    "        print(each.value,end=' ')\n",
    "    print('\\n')"
   ]
  },
  {
   "cell_type": "markdown",
   "metadata": {},
   "source": [
    "## Breadth-First Search\n",
    "\n",
    "For this algorithm, the frontier is better to be represented with a FIFO (first-in-first-out) queue, which in python can be a usual queue or even a list"
   ]
  },
  {
   "cell_type": "code",
   "execution_count": 16,
   "metadata": {},
   "outputs": [
    {
     "name": "stdout",
     "output_type": "stream",
     "text": [
      "Alice\n",
      "Bob\n",
      "Charlie\n"
     ]
    }
   ],
   "source": [
    "from queue import Queue\n",
    "namequeue = Queue()\n",
    "# Add elements\n",
    "namequeue.put(\"Alice\")\n",
    "namequeue.put(\"Bob\")\n",
    "namequeue.put(\"Charlie\")\n",
    "\n",
    "# Remove elements\n",
    "print(namequeue.get())\n",
    "print(namequeue.get())\n",
    "print(namequeue.get())"
   ]
  },
  {
   "cell_type": "code",
   "execution_count": 4,
   "metadata": {},
   "outputs": [
    {
     "name": "stdout",
     "output_type": "stream",
     "text": [
      "Alice\n",
      "Bob\n",
      "Charlie\n"
     ]
    }
   ],
   "source": [
    "namelist = []\n",
    "namelist.append(\"Charlie\")\n",
    "namelist.append(\"Bob\")\n",
    "namelist.append(\"Alice\")\n",
    "\n",
    "# Remove elements\n",
    "print(namelist.pop())\n",
    "print(namelist.pop())\n",
    "print(namelist.pop())"
   ]
  },
  {
   "cell_type": "markdown",
   "metadata": {},
   "source": [
    "Now we moving through the above graph using BFT. Implement the `bfs_search` to return the `GraphNode` with the value `search_value` starting at the `root_node`."
   ]
  },
  {
   "cell_type": "code",
   "execution_count": 18,
   "metadata": {},
   "outputs": [],
   "source": [
    "def bfs_search(root_node, search_value):\n",
    "    bfs_frontier = Queue()\n",
    "    bfs_frontier.put(root_node)\n",
    "    bfs_explored = {}\n",
    "\n",
    "    while True:\n",
    "        if bfs_frontier.empty():\n",
    "            return False\n",
    "\n",
    "        # get (shallowest) node from frontier\n",
    "        # ensured to be shallowest as frontier is FIFO\n",
    "        current_node = bfs_frontier.get()\n",
    "        # note: we don't check gold state here!\n",
    "        bfs_explored.add(current_node)\n",
    "\n",
    "        # consider the result of each possible action on \n",
    "        # the current node\n",
    "        for next_node in current_node.children:\n",
    "            # bfs_frontier is not iterable but bfs_frontier.queue is\n",
    "            if (\n",
    "                (next_node not in bfs_explored) and (next_node not in bfs_frontier.queue) \n",
    "                ):\n",
    "                if next_node.value == search_value:\n",
    "                    # return child node if condition is satisfied\n",
    "                    # next_node is goal\n",
    "                    return next_node\n",
    "                # add child nodes to the frontier\n",
    "                bfs_frontier.put(next_node)\n"
   ]
  },
  {
   "cell_type": "code",
   "execution_count": 19,
   "metadata": {},
   "outputs": [],
   "source": [
    "assert nodeA == bfs_search(nodeS, 'A')\n",
    "assert nodeS == bfs_search(nodeP, 'S')\n",
    "assert nodeR == bfs_search(nodeH, 'R')"
   ]
  },
  {
   "cell_type": "markdown",
   "metadata": {},
   "source": [
    "### Faster solution (Udacity)"
   ]
  },
  {
   "cell_type": "code",
   "execution_count": null,
   "metadata": {},
   "outputs": [],
   "source": [
    "# Solution\n",
    "def bfs_search(root_node, search_value):\n",
    "    visited = set()                           # Sets are faster while lookup. Lists are faster to iterate.\n",
    "    queue = [root_node]\n",
    "    \n",
    "    while len(queue) > 0:\n",
    "        current_node = queue.pop(0)\n",
    "        visited.add(current_node)\n",
    "\n",
    "        if current_node.value == search_value:\n",
    "            return current_node\n",
    "\n",
    "        for child in current_node.children:\n",
    "            if child not in visited:          # Lookup\n",
    "                queue.append(child)\n"
   ]
  },
  {
   "cell_type": "markdown",
   "metadata": {},
   "source": [
    "## Depth-First search\n",
    "\n",
    "For this type of search a LIFO (last-in-first-out) queue is used to model the frontier, as the latest node to be incorporated is also the first one wose children will be considered."
   ]
  },
  {
   "cell_type": "code",
   "execution_count": 1,
   "metadata": {},
   "outputs": [
    {
     "name": "stdout",
     "output_type": "stream",
     "text": [
      "Charlie\n",
      "Bob\n",
      "Alice\n"
     ]
    }
   ],
   "source": [
    "import queue\n",
    "lifonamequeue = queue.LifoQueue()\n",
    "# Add elements\n",
    "lifonamequeue.put(\"Alice\")\n",
    "lifonamequeue.put(\"Bob\")\n",
    "lifonamequeue.put(\"Charlie\")\n",
    "\n",
    "# Remove elements\n",
    "print(lifonamequeue.get())\n",
    "print(lifonamequeue.get())\n",
    "print(lifonamequeue.get())\n"
   ]
  },
  {
   "cell_type": "markdown",
   "metadata": {},
   "source": [
    "We see that the last element to be put is the first one out. In this sense, it goes contrary to a LIFO queue."
   ]
  },
  {
   "cell_type": "code",
   "execution_count": 241,
   "metadata": {},
   "outputs": [],
   "source": [
    "def dfs_search_recursion(start_node, search_value, visited_nodes = set(), lifo_nodes=[]):\n",
    "    # start_node works also as current node\n",
    "    # finish if the find the goal\n",
    "    if start_node.value == search_value:\n",
    "        return start_node\n",
    "\n",
    "    # add current node to visited nodes\n",
    "    visited_nodes.add(start_node)\n",
    "    # add all the non-visited children of the current node\n",
    "    # (located at the end of the LIFO queue!)\n",
    "    lifo_nodes.extend(list(set(start_node.children) - set(visited_nodes)))\n",
    "    \n",
    "\n",
    "    while len(lifo_nodes) > 0:\n",
    "        # extract the last node from the LIFO queue\n",
    "        # this will be one of the latest added nodes\n",
    "        child = lifo_nodes.pop(-1)\n",
    "        # process most-recently added children first: DFS\n",
    "        if child not in visited_nodes: # redundant in principle: kept just in case\n",
    "            return dfs_search_recursion(child, search_value, visited_nodes, lifo_nodes)"
   ]
  },
  {
   "cell_type": "code",
   "execution_count": 242,
   "metadata": {},
   "outputs": [],
   "source": [
    "assert nodeA == dfs_search_recursion(nodeG, 'A', visited_nodes = set(), lifo_nodes=[])\n",
    "assert nodeA == dfs_search_recursion(nodeS, 'A', visited_nodes = set(), lifo_nodes=[])\n",
    "assert nodeS == dfs_search_recursion(nodeP, 'S', visited_nodes = set(), lifo_nodes=[])\n",
    "assert nodeR == dfs_search_recursion(nodeH, 'R', visited_nodes = set(), lifo_nodes=[])"
   ]
  },
  {
   "cell_type": "code",
   "execution_count": 243,
   "metadata": {},
   "outputs": [
    {
     "name": "stdout",
     "output_type": "stream",
     "text": [
      "0\n",
      "10000\n",
      "20000\n",
      "30000\n",
      "40000\n",
      "50000\n",
      "60000\n",
      "70000\n",
      "80000\n",
      "90000\n"
     ]
    }
   ],
   "source": [
    "for i in range(100000):\n",
    "    if i % 10000 == 0:\n",
    "        print(i)\n",
    "    if dfs_search_recursion(nodeG, 'A', visited_nodes = set(), lifo_nodes=[]).value  != 'A':\n",
    "        print('errr')\n",
    "        break"
   ]
  },
  {
   "cell_type": "markdown",
   "metadata": {},
   "source": [
    "### Udacity's solution (WRONG!)"
   ]
  },
  {
   "cell_type": "code",
   "execution_count": 233,
   "metadata": {},
   "outputs": [],
   "source": [
    "# Solution\n",
    "def dfs_recursion_start(start_node, search_value):\n",
    "    visited = set()               # Set to keep track of visited nodes.\n",
    "    return dfs_recursion(start_node, visited, search_value)\n",
    "\n",
    "# Recursive function\n",
    "def dfs_recursion(node, visited, search_value):\n",
    "    if node.value == search_value:\n",
    "        found = True              # Don't search in other branches, if found = True\n",
    "        return node\n",
    "    \n",
    "    visited.add(node)\n",
    "    found = False\n",
    "    result = None\n",
    "\n",
    "    # Conditional recurse on each neighbour\n",
    "    for child in node.children:\n",
    "        if (child not in visited):\n",
    "                result = dfs_recursion(child, visited, search_value)\n",
    "                \n",
    "                # Once the match is found, no more recurse \n",
    "                if found:\n",
    "                    break\n",
    "    return result"
   ]
  },
  {
   "cell_type": "markdown",
   "metadata": {},
   "source": [
    "Hi,\n",
    "\n",
    "I have noticed that if I remove the direct connection `G <-> A` in the graph defined in the exercise notebook of the DFS algorithm I get an assertion error in the following line:\n",
    "\n",
    "`assert nodeA == dfs_recursion_start(nodeG, 'A')`\n",
    "\n",
    "However, I would expect the DFS algorithm to still find the goal node through the path `G -> R -> A`, so there should be some issue with the proposed solution.\n",
    "\n",
    "Assuming that I am not missing anything, I believe that the problem has to do with the fact that reassignment\n",
    "\n",
    "`found = True`\n",
    "\n",
    "has only the scope of the current node, and not on the previous node in the recursive function. Therefore, the break condition within the loop is not always triggered when it should.\n",
    "\n",
    "I think that the current solution will crash whenever the goal node is a leaf node that is not directly connected with start_node, and the reason why it works for the graph currently defined in the exercise if because there is an interplay between visited nodes and connections so that the goal node happens to always be the last node to be checked.\n",
    "\n",
    "Is there anything that I am not interpreting correctly?\n",
    "\n",
    "Thanks"
   ]
  },
  {
   "cell_type": "code",
   "execution_count": 235,
   "metadata": {},
   "outputs": [
    {
     "ename": "AssertionError",
     "evalue": "",
     "output_type": "error",
     "traceback": [
      "\u001b[1;31m---------------------------------------------------------------------------\u001b[0m",
      "\u001b[1;31mAssertionError\u001b[0m                            Traceback (most recent call last)",
      "\u001b[1;32m<ipython-input-235-ee4a7770a5bc>\u001b[0m in \u001b[0;36m<module>\u001b[1;34m\u001b[0m\n\u001b[0;32m     16\u001b[0m \u001b[0mgraph1\u001b[0m\u001b[1;33m.\u001b[0m\u001b[0madd_edge\u001b[0m\u001b[1;33m(\u001b[0m\u001b[0mnodeS\u001b[0m\u001b[1;33m,\u001b[0m \u001b[0mnodeR\u001b[0m\u001b[1;33m)\u001b[0m\u001b[1;33m\u001b[0m\u001b[1;33m\u001b[0m\u001b[0m\n\u001b[0;32m     17\u001b[0m \u001b[1;33m\u001b[0m\u001b[0m\n\u001b[1;32m---> 18\u001b[1;33m \u001b[1;32massert\u001b[0m \u001b[0mnodeA\u001b[0m \u001b[1;33m==\u001b[0m \u001b[0mdfs_recursion_start\u001b[0m\u001b[1;33m(\u001b[0m\u001b[0mnodeG\u001b[0m\u001b[1;33m,\u001b[0m \u001b[1;34m'A'\u001b[0m\u001b[1;33m)\u001b[0m\u001b[1;33m\u001b[0m\u001b[1;33m\u001b[0m\u001b[0m\n\u001b[0m\u001b[0;32m     19\u001b[0m \u001b[1;32massert\u001b[0m \u001b[0mnodeA\u001b[0m \u001b[1;33m==\u001b[0m \u001b[0mdfs_recursion_start\u001b[0m\u001b[1;33m(\u001b[0m\u001b[0mnodeS\u001b[0m\u001b[1;33m,\u001b[0m \u001b[1;34m'A'\u001b[0m\u001b[1;33m)\u001b[0m\u001b[1;33m\u001b[0m\u001b[1;33m\u001b[0m\u001b[0m\n\u001b[0;32m     20\u001b[0m \u001b[1;32massert\u001b[0m \u001b[0mnodeS\u001b[0m \u001b[1;33m==\u001b[0m \u001b[0mdfs_recursion_start\u001b[0m\u001b[1;33m(\u001b[0m\u001b[0mnodeP\u001b[0m\u001b[1;33m,\u001b[0m \u001b[1;34m'S'\u001b[0m\u001b[1;33m)\u001b[0m\u001b[1;33m\u001b[0m\u001b[1;33m\u001b[0m\u001b[0m\n",
      "\u001b[1;31mAssertionError\u001b[0m: "
     ]
    }
   ],
   "source": [
    "# create a graph\n",
    "nodeG = GraphNode('G')\n",
    "nodeR = GraphNode('R')\n",
    "nodeA = GraphNode('A')\n",
    "nodeP = GraphNode('P')\n",
    "nodeH = GraphNode('H')\n",
    "nodeS = GraphNode('S')\n",
    "\n",
    "graph1 = Graph([nodeS, nodeH, nodeG, nodeP, nodeR, nodeA]) \n",
    "graph1.add_edge(nodeG, nodeR)\n",
    "graph1.add_edge(nodeA, nodeR)\n",
    "#graph1.add_edge(nodeA, nodeG)\n",
    "graph1.add_edge(nodeR, nodeP)\n",
    "graph1.add_edge(nodeH, nodeG)\n",
    "graph1.add_edge(nodeH, nodeP)\n",
    "graph1.add_edge(nodeS, nodeR)\n",
    "\n",
    "assert nodeA == dfs_recursion_start(nodeG, 'A')\n",
    "assert nodeA == dfs_recursion_start(nodeS, 'A')\n",
    "assert nodeS == dfs_recursion_start(nodeP, 'S')\n",
    "assert nodeR == dfs_recursion_start(nodeH, 'R')"
   ]
  },
  {
   "cell_type": "markdown",
   "metadata": {},
   "source": [
    "### Correcting Udacity's solution\n",
    "\n",
    "Basically we can write a workaround for Udacity's solution while keeping as much as the original code as possible by simply ensuring that variable `found` is propagated as expected."
   ]
  },
  {
   "cell_type": "code",
   "execution_count": 236,
   "metadata": {},
   "outputs": [],
   "source": [
    "# Solution\n",
    "def dfs_recursion_start(start_node, search_value):\n",
    "    visited = set()               # Set to keep track of visited nodes.\n",
    "    return dfs_recursion(start_node, visited, search_value)\n",
    "\n",
    "# Recursive function\n",
    "def dfs_recursion(node, visited, search_value):\n",
    "    if node.value == search_value:\n",
    "        return node, True\n",
    "    visited.add(node)\n",
    "    found = False\n",
    "    result = None\n",
    "\n",
    "    # Conditional recurse on each neighbour\n",
    "    for child in node.children:\n",
    "        if (child not in visited):\n",
    "                result, found = dfs_recursion(child, visited, search_value)\n",
    "                # Once the match is found, no more recurse \n",
    "                if found:\n",
    "                    break\n",
    "    return result, found"
   ]
  },
  {
   "cell_type": "code",
   "execution_count": 240,
   "metadata": {},
   "outputs": [],
   "source": [
    "# create a graph\n",
    "nodeG = GraphNode('G')\n",
    "nodeR = GraphNode('R')\n",
    "nodeA = GraphNode('A')\n",
    "nodeP = GraphNode('P')\n",
    "nodeH = GraphNode('H')\n",
    "nodeS = GraphNode('S')\n",
    "\n",
    "graph1 = Graph([nodeS, nodeH, nodeG, nodeP, nodeR, nodeA]) \n",
    "graph1.add_edge(nodeG, nodeR)\n",
    "graph1.add_edge(nodeA, nodeR)\n",
    "#graph1.add_edge(nodeA, nodeG)\n",
    "graph1.add_edge(nodeR, nodeP)\n",
    "graph1.add_edge(nodeH, nodeG)\n",
    "graph1.add_edge(nodeH, nodeP)\n",
    "graph1.add_edge(nodeS, nodeR)\n",
    "\n",
    "assert nodeA == dfs_recursion_start(nodeG, 'A')[0]\n",
    "assert nodeA == dfs_recursion_start(nodeS, 'A')[0]\n",
    "assert nodeS == dfs_recursion_start(nodeP, 'S')[0]\n",
    "assert nodeR == dfs_recursion_start(nodeH, 'R')[0]"
   ]
  },
  {
   "cell_type": "markdown",
   "metadata": {},
   "source": [
    "## Uniform Cost Search (Dijkstra's Algorithm)\n",
    "\n",
    "For this type of algorithm the frontier can be modelled as a queue in which the nodes are stored in order according to the cost $g(n)$\n",
    "\n",
    "\n",
    "<img style=\"float: center;height:250px;\" src=\"graph_dijs.png\"><br>\n",
    "\n",
    "#### The Algorithm\n",
    "1. Create a `result` dictionary. At the end of the program, `result` will have the shortest distance (value) for all nodes (key) in the graph. For our example, it will become as `{'A': 0, 'B': 5, 'C': 3, 'D': 2, 'F': 6, 'E': 4}`<br><br>\n",
    "1. Start with the source node. Distance from source to source itself is 0.  <br><br>\n",
    "1. The distance to all other nodes from the source is unknown initially, therefore set the initial distance to infinity.  <br><br>\n",
    "1. Create a set `unvisited` containing nodes that have not been visited. Initially, it will have all nodes of the graph.<br><br>\n",
    "1. Create a `path` dictionary that keeps track of the previous node (value) that can lead to the current node (key) in an optimal way. At the end of the program, for our example, it will become as `{'B': 'A', 'C': 'D', 'D': 'A', 'F': 'C', 'E': 'C'}`. Values represent the **Previous Optimal Node**. Here, the Previous Optimal Node is the \"best\" node which could lead us to the current node (key). For instance, the previous optimal node of `'C'` is `'D'` because the optimal path (in term of distance) that starts at `'A'` and finishes at `'C'` passes through `'D'` before reaching `'C'`. In this sense, the optimal path between the source node (`'A'` in this case) and any of the other nodes can be found using `path`: start at the key given by the goal node and move backwards according to dictionary `path`. For example, If we want to know the optimal path from `'A'` to `'E'`, we note that `path['E']='C'`, then `path['C']='D'` and finally `path['D']='A'`, so the optimal path from `'A'` to `'E'` would be `'A' -> 'D' -> 'C' -> 'E' `. This dictionary `path` can be initialized as an empty one. <br><br>\n",
    "1. As long as `unvisited` is non-empty, repeat the following:\n",
    " - Find the unvisited node having smallest known distance from the *source node*. This defines the *current node* <br><br>\n",
    " - For the *current node*, find all the **unvisited neighbours** of it. Then calculate the distance of each unvisited neighbour to the *source node*.  <br><br>\n",
    " - If the calculated distance of the **unvisited neighbour** is less than the already known distance in `result` dictionary, update the shortest distance in the `result` dictionary. <br><br>\n",
    " - If there is an update in the `result` dictionary, you need to update the `path` dictionary as well for the same key. The update entails placing value = *current node*, being the key the neighbour of *current node* for which the distance in `result` has been updated. Basically, we are placing the new previous optimal node. <br><br>\n",
    " - Remove the current node from the `unvisited` set.\n",
    "\n",
    "Note that this (greedy) algorithm ensures finding an optimal solution for any given starting or *source node* because it looks for the minimum distance expanding from nodes that are the closest to the source at each time. The fact that the expansion is done according to distance (hence in an ordered way) allows the algorithm to be only $\\mathcal{O}(n^2)$: for each of the closest nodes to the source ($\\mathcal{O}(n)$) we search through all its neighbours ($\\mathcal{O}(n)$). So the search is actually done in triplets:\n",
    "\n",
    "$$ \\text{source node} \\rightarrow \\text{current node} \\rightarrow \\text{current-node's neighbour} $$\n",
    "\n",
    "but this is OK because, as we expand in an ordered way, no matter how far a node is from the source, *current node* will always be closer to *source node* than its (unvisited) neighbours. For instance, imagine that there are two possible paths to reach node `'E'` from the source node `'A'`:\n",
    "\n",
    "$$ A \\rightarrow F \\rightarrow D \\rightarrow E  $$\n",
    "$$ A \\rightarrow B \\rightarrow C \\rightarrow E  $$\n",
    "\n",
    "Both `'C'` and `'D'` are closer to `'A'` than `'E'` and this is crucial because this means that the algorithm will process them before processing `'E'`. Imagine that the optimal path from `'A'` to `'E'` passes through `'D'` but `'C'` is closer to `'A'` than `'D'`. Then, we will first process the triplet \n",
    "\n",
    "$$ \\text{source node} (A) \\rightarrow \\text{current node} (C) \\rightarrow \\text{current-node's neighbour} (E) $$\n",
    "\n",
    "and note that we can skip $B$ because it is not necessary, as we already know that the optimal path to $C$ passes through $B$. That is why we can express everything in terms of triplets only. This will give a value to `result` and `path`. But then, we will process \n",
    "\n",
    "$$ \\text{source node} (A) \\rightarrow \\text{current node} (D) \\rightarrow \\text{current-node's neighbour} (E) $$\n",
    "\n",
    "(again, `'F'` can be safely skipped as optimal path to `'D'` passes through `'F'` but this is not important). Si we have assumed that this path is optimal, values of `result` and `path` will be updated accordingly, reflecting this.\n",
    "\n",
    "So, crucially, optimal paths to a given node $N$ can be found in a Markovian way if we start from all the optimal paths to previous nodes whose neighbour is $N$ and search for the optimal 'step ahead'.\n",
    "\n",
    "**Note** - This implementation of the Dijkstra's algorithm is not very efficient. Currently it has a $\\mathcal{O}(n^2)$  time complexity. We will see a better version in the next lesson - \"Graph Algorithms\" with $\\mathcal{O}(n\\log(n))$  time complexity."
   ]
  },
  {
   "cell_type": "code",
   "execution_count": 1,
   "metadata": {},
   "outputs": [],
   "source": [
    "# Helper Code - define graph with distance\n",
    "from collections import defaultdict\n",
    "class Graph:\n",
    "    def __init__(self):\n",
    "        self.nodes = set()                   # A set cannot contain duplicate nodes\n",
    "        self.neighbours = defaultdict(list)  # Defaultdict is a child class of Dictionary that provides a default value for a key that does not exists.\n",
    "        self.distances = {}                  # Dictionary. An example record as ('A', 'B'): 6 shows the distance between 'A' to 'B' is 6 units\n",
    "\n",
    "    def add_node(self, value):\n",
    "        self.nodes.add(value)\n",
    "\n",
    "    def add_edge(self, from_node, to_node, distance):\n",
    "        self.neighbours[from_node].append(to_node)\n",
    "        self.neighbours[to_node].append(from_node)\n",
    "        self.distances[(from_node, to_node)] = distance\n",
    "        self.distances[(to_node, from_node)] = distance    # lets make the graph undirected / bidirectional \n",
    "        \n",
    "    def print_graph(self):\n",
    "        print(\"Set of Nodes are: \", self.nodes)\n",
    "        print(\"Neighbours are: \", self.neighbours)\n",
    "        print(\"Distances are: \", self.distances)"
   ]
  },
  {
   "cell_type": "code",
   "execution_count": 2,
   "metadata": {},
   "outputs": [],
   "source": [
    "def dijkstra(graph, source):\n",
    "    # Declare and initialize result, unvisited, and path\n",
    "    # result[source node] = 0, impying that the first nodes to be \n",
    "    # considered will be the neighbours of the source node. \n",
    "    # (in other words current_node = source_node in the first iteration)\n",
    "    result = {node_name: 1E10 if node_name != source else 0. for node_name in graph.nodes}\n",
    "    unvisited = graph.nodes.copy()\n",
    "    path = {}\n",
    "    # As long as unvisited is non-empty\n",
    "    while unvisited:\n",
    "        current_node = None\n",
    "        # 1. Find the unvisited node having smallest known distance from the source node.\n",
    "        # (NO MATTER IF THIS NODE IS DIRECTLY CONNECTED OR NOT WITH THE SOURCE,\n",
    "        # distance here does not mean elements in graph.distances, but total distances)\n",
    "        for elm in [pair for pair in dict(sorted(result.items(), key=lambda x: x[1])).keys()]:\n",
    "            # process first the nodes closer to the source\n",
    "            if elm in unvisited:\n",
    "                current_node = elm\n",
    "                break\n",
    "        # stop when there is no solution\n",
    "        if current_node is None:\n",
    "            break\n",
    "        \n",
    "        # 2. For the current node, find all the unvisited neighbours of it. \n",
    "        # Then (re)calculate the distance of each unvisited neighbour to the source node\n",
    "        # assuming that we pass through the current node.\n",
    "        unvisited_neights_current = set(graph.neighbours[current_node]) & unvisited\n",
    "        distance_unv_neigths = {\n",
    "            i: result[current_node] + graph.distances[(current_node, i)]\n",
    "            for i in unvisited_neights_current\n",
    "            }\n",
    "        # 3. If the above calculated distance of the unvisited neighbour to the source\n",
    "        # is less than the already known distance in result dictionary, \n",
    "        # update the shortest distance in the result dictionary.        \n",
    "        updated_dist =  {\n",
    "            node_neigh : dist for node_neigh, dist in distance_unv_neigths.items()\n",
    "            if dist < result[node_neigh]\n",
    "            }\n",
    "        #update result\n",
    "        result = {**result, **updated_dist}\n",
    "        # 4. If there is an update in the result dictionary, you need to update the\n",
    "        # path dictionary as well for the same key.\n",
    "        if updated_dist:\n",
    "            updated_path = {\n",
    "                node_neigh : current_node for node_neigh in updated_dist.keys()\n",
    "            }\n",
    "            path = {**path, **updated_path}\n",
    "        # 5. Remove the current node from the unvisited set.\n",
    "        unvisited.remove(current_node)\n",
    "    return result"
   ]
  },
  {
   "cell_type": "code",
   "execution_count": 9,
   "metadata": {},
   "outputs": [
    {
     "name": "stdout",
     "output_type": "stream",
     "text": [
      "{'B': 3.0, 'D': 2.0, 'E': 3.0, 'C': 4.0, 'A': 0.0}\n",
      "{'C': 10.0, 'A': 0.0, 'B': 5.0}\n",
      "{'B': 5.0, 'D': 2.0, 'E': 4.0, 'C': 3.0, 'A': 0.0, 'F': 6.0}\n"
     ]
    }
   ],
   "source": [
    "# Test 1\n",
    "testGraph = Graph()\n",
    "for node in ['A', 'B', 'C', 'D', 'E']:\n",
    "    testGraph.add_node(node)\n",
    "\n",
    "testGraph.add_edge('A','B',3)\n",
    "testGraph.add_edge('A','D',2)\n",
    "testGraph.add_edge('B','D',4)\n",
    "testGraph.add_edge('B','E',6)\n",
    "testGraph.add_edge('B','C',1)\n",
    "testGraph.add_edge('C','E',2)\n",
    "testGraph.add_edge('E','D',1)\n",
    "\n",
    "print(dijkstra(testGraph, 'A'))     # {'A': 0, 'D': 2, 'B': 3, 'E': 3, 'C': 4}\n",
    "\n",
    "# Test 2\n",
    "graph = Graph()\n",
    "for node in ['A', 'B', 'C']:\n",
    "    graph.add_node(node)\n",
    "    \n",
    "graph.add_edge('A', 'B', 5)\n",
    "graph.add_edge('B', 'C', 5)\n",
    "graph.add_edge('A', 'C', 10)\n",
    "\n",
    "print(dijkstra(graph, 'A'))        # {'A': 0, 'C': 10, 'B': 5}\n",
    "\n",
    "# Test 3\n",
    "graph = Graph()\n",
    "for node in ['A', 'B', 'C', 'D', 'E', 'F']:\n",
    "    graph.add_node(node)\n",
    "    \n",
    "graph.add_edge('A', 'B', 5)\n",
    "graph.add_edge('A', 'C', 4)\n",
    "graph.add_edge('D', 'C', 1)\n",
    "graph.add_edge('B', 'C', 2)\n",
    "graph.add_edge('A', 'D', 2)\n",
    "graph.add_edge('B', 'F', 2)\n",
    "graph.add_edge('C', 'F', 3)\n",
    "graph.add_edge('E', 'F', 2)\n",
    "graph.add_edge('C', 'E', 1)\n",
    "\n",
    "print(dijkstra(graph, 'A'))       # {'A': 0, 'C': 3, 'B': 5, 'E': 4, 'D': 2, 'F': 6}"
   ]
  },
  {
   "cell_type": "markdown",
   "metadata": {},
   "source": [
    "### Udacity's solution (very similar in this case)"
   ]
  },
  {
   "cell_type": "code",
   "execution_count": 4,
   "metadata": {},
   "outputs": [],
   "source": [
    "import sys\n",
    "\n",
    "'''Find the shortest path from the source node to every other node in the given graph'''\n",
    "def dijkstra_ud(graph, source):\n",
    "    \n",
    "    result = {}\n",
    "    result[source] = 0                 \n",
    "    \n",
    "    for node in graph.nodes:\n",
    "        if (node != source):\n",
    "            result[node] = sys.maxsize\n",
    "            \n",
    "    unvisited = set(graph.nodes)  \n",
    "    \n",
    "    path = {}\n",
    "\n",
    "    '''THE GREEDY APPROACH'''\n",
    "    # As long as unvisited is non-empty\n",
    "    while unvisited: \n",
    "        min_node = None    \n",
    "        \n",
    "        # 1. Find the unvisited node having smallest known distance from the source node.\n",
    "        for node in unvisited:\n",
    "            if node in result:\n",
    "                \n",
    "                if min_node is None:       \n",
    "                    min_node = node\n",
    "                elif result[node] < result[min_node]:\n",
    "                    min_node = node\n",
    "\n",
    "        if min_node is None:\n",
    "            break\n",
    "            \n",
    "        # known distance of min_node\n",
    "        current_distance = result[min_node]\n",
    "        \n",
    "        # 2. For the current node, find all the unvisited neighbours. \n",
    "        # For this, you have calculate the distance of each unvisited neighbour.\n",
    "        for neighbour in graph.neighbours[min_node]:\n",
    "            if neighbour in unvisited:\n",
    "                distance = current_distance + graph.distances[(min_node, neighbour)]\n",
    "            \n",
    "                # 3. If the calculated distance of the unvisited neighbour is less than the already known distance in result dictionary, update the shortest distance in the result dictionary.\n",
    "                if ((neighbour not in result) or (distance < result[neighbour])):\n",
    "                    result[neighbour] = distance\n",
    "\n",
    "                    # 4. If there is an update in the result dictionary, you need to update the path dictionary as well for the same key.\n",
    "                    path[neighbour] = min_node\n",
    "        \n",
    "        # 5. Remove the current node from the unvisited set.\n",
    "        unvisited.remove(min_node)\n",
    "\n",
    "    return result"
   ]
  },
  {
   "cell_type": "code",
   "execution_count": 10,
   "metadata": {},
   "outputs": [
    {
     "name": "stdout",
     "output_type": "stream",
     "text": [
      "{'A': 0, 'B': 3, 'D': 2, 'E': 3, 'C': 4}\n",
      "{'A': 0, 'C': 10, 'B': 5}\n",
      "{'A': 0, 'B': 5, 'D': 2, 'E': 4, 'C': 3, 'F': 6}\n"
     ]
    }
   ],
   "source": [
    "# Test 1\n",
    "testGraph = Graph()\n",
    "for node in ['A', 'B', 'C', 'D', 'E']:\n",
    "    testGraph.add_node(node)\n",
    "\n",
    "testGraph.add_edge('A','B',3)\n",
    "testGraph.add_edge('A','D',2)\n",
    "testGraph.add_edge('B','D',4)\n",
    "testGraph.add_edge('B','E',6)\n",
    "testGraph.add_edge('B','C',1)\n",
    "testGraph.add_edge('C','E',2)\n",
    "testGraph.add_edge('E','D',1)\n",
    "\n",
    "print(dijkstra_ud(testGraph, 'A'))     # {'A': 0, 'D': 2, 'B': 3, 'E': 3, 'C': 4}\n",
    "\n",
    "# Test 2\n",
    "graph = Graph()\n",
    "for node in ['A', 'B', 'C']:\n",
    "    graph.add_node(node)\n",
    "    \n",
    "graph.add_edge('A', 'B', 5)\n",
    "graph.add_edge('B', 'C', 5)\n",
    "graph.add_edge('A', 'C', 10)\n",
    "\n",
    "print(dijkstra_ud(graph, 'A'))        # {'A': 0, 'C': 10, 'B': 5}\n",
    "\n",
    "# Test 3\n",
    "graph = Graph()\n",
    "for node in ['A', 'B', 'C', 'D', 'E', 'F']:\n",
    "    graph.add_node(node)\n",
    "    \n",
    "graph.add_edge('A', 'B', 5)\n",
    "graph.add_edge('A', 'C', 4)\n",
    "graph.add_edge('D', 'C', 1)\n",
    "graph.add_edge('B', 'C', 2)\n",
    "graph.add_edge('A', 'D', 2)\n",
    "graph.add_edge('B', 'F', 2)\n",
    "graph.add_edge('C', 'F', 3)\n",
    "graph.add_edge('E', 'F', 2)\n",
    "graph.add_edge('C', 'E', 1)\n",
    "\n",
    "print(dijkstra_ud(graph, 'A'))       # {'A': 0, 'C': 3, 'B': 5, 'E': 4, 'D': 2, 'F': 6}"
   ]
  },
  {
   "cell_type": "markdown",
   "metadata": {},
   "source": []
  }
 ],
 "metadata": {
  "interpreter": {
   "hash": "76264ff41b8b62e361a40889031b85e90923c7ebbdcfd5d048b4c0d0d1b998c2"
  },
  "kernelspec": {
   "display_name": "Python 3.7.4 ('base')",
   "language": "python",
   "name": "python3"
  },
  "language_info": {
   "codemirror_mode": {
    "name": "ipython",
    "version": 3
   },
   "file_extension": ".py",
   "mimetype": "text/x-python",
   "name": "python",
   "nbconvert_exporter": "python",
   "pygments_lexer": "ipython3",
   "version": "3.7.4"
  },
  "orig_nbformat": 4
 },
 "nbformat": 4,
 "nbformat_minor": 2
}
