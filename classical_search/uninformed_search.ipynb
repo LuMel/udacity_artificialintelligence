{
 "cells": [
  {
   "cell_type": "markdown",
   "metadata": {},
   "source": [
    "# Uninformed Search\n",
    "\n",
    "This is the most basic form of seach.It implies trying to reach a goal state with no knowledge of where such goal state is.\n",
    "\n",
    "Threfore, every possible strategy will just move from one node to another and check whether we reached the goal state or not. It will keep expanding until we reach the goal state.\n",
    "\n",
    "We have an intrinsic measure of distance (or better, a *cost*) within a graph of nodes and paths, even if the absence of knowledge regarding the gold state: the number of steps associated to a given path. We can also consider adding other measure of distance given for example by the number of kilometers between the start state and our current state.\n",
    "\n",
    "Given a graph with a cost defined for the paths, we can imagine 3 ways of searching.\n",
    "\n",
    "- **Breadth-First Search (BFS)**: We start out with the root node and then expand the so-called frotier of examined nodes by considering other nodes that have the same *depth*. Here, the same depth means that the distance between the root node and each of the next-to-consider nodes is the same. In terms of the picture of a tree, this implies considering first expansions of the same depth. When there are ties (i.e. two nodes are one step away from current node) we can just pick one at random or use some rule of thumb.\n",
    "\n",
    "- **Depth-First Search (DFS)**: TODO:COMPLETE\n",
    "\n",
    "\n",
    "![BFSvsDFS](./DFSBFS.png)\n",
    "\n",
    "The implementation of Uninformed Search in pseudocode is a follows:\n",
    "\n",
    "\n",
    "```function Graph.Search(problem):\n",
    "  frontier = {[initial]}; explored={}\n",
    "  loop:\n",
    "    if frontier is empty: return FAIL\n",
    "    path = remove.choice(frontier)\n",
    "    s = path.end; add s to explored\n",
    "    if s is a goal: return path\n",
    "    for a in actions:\n",
    "        add[path + a -> Result(s,a)]\n",
    "        to frontier\n",
    "        unless Result(s,a) in frontier or explored\n",
    "```\n",
    "\n",
    "So we first have a frontier initialized with with the root node as the only node. Then, we remove a path from the frontier and consider the state `s` that the removed path leads to. Then we add `s` to the explored list. If `s` is the goal state, we return the path. If not, we add to the frontier all the paths that can be constructed starting from `s` and adding each and all of the possible actions `a` (we do this unless `s+a` is in the explored list or is already in the frontier).\n",
    "\n",
    "The difference between BFS and DFS is simply the path that is removed from the frontier at each iteration, i.e. the particular function or routine that we apply the line `path = remove.choice(frontier)` above. \n"
   ]
  },
  {
   "cell_type": "markdown",
   "metadata": {},
   "source": [
    "## Graph"
   ]
  },
  {
   "cell_type": "code",
   "execution_count": 6,
   "metadata": {},
   "outputs": [],
   "source": [
    "class GraphNode(object):\n",
    "    def __init__(self, val):\n",
    "        self.value = val\n",
    "        self.children = []\n",
    "        \n",
    "    def add_child(self, new_node):\n",
    "        self.children.append(new_node)\n",
    "    \n",
    "    def remove_child(self, del_node):\n",
    "        if del_node in self.children:\n",
    "            self.children.remove(del_node)\n",
    "\n",
    "class Graph(object):\n",
    "    def __init__(self, node_list):\n",
    "        self.nodes = node_list\n",
    "        \n",
    "    def add_edge(self, node1, node2):\n",
    "        if(node1 in self.nodes and node2 in self.nodes):\n",
    "            node1.add_child(node2)\n",
    "            node2.add_child(node1)\n",
    "            \n",
    "    def remove_edge(self, node1, node2):\n",
    "        if(node1 in self.nodes and node2 in self.nodes):\n",
    "            node1.remove_child(node2)\n",
    "            node2.remove_child(node1)"
   ]
  },
  {
   "cell_type": "code",
   "execution_count": 7,
   "metadata": {},
   "outputs": [],
   "source": [
    "# create a graph\n",
    "nodeG = GraphNode('G')\n",
    "nodeR = GraphNode('R')\n",
    "nodeA = GraphNode('A')\n",
    "nodeP = GraphNode('P')\n",
    "nodeH = GraphNode('H')\n",
    "nodeS = GraphNode('S')\n",
    "\n",
    "graph1 = Graph([nodeS, nodeH, nodeG, nodeP, nodeR, nodeA]) \n",
    "graph1.add_edge(nodeG, nodeR)\n",
    "graph1.add_edge(nodeA, nodeR)\n",
    "graph1.add_edge(nodeA, nodeG)\n",
    "graph1.add_edge(nodeR, nodeP)\n",
    "graph1.add_edge(nodeH, nodeG)\n",
    "graph1.add_edge(nodeH, nodeP)\n",
    "graph1.add_edge(nodeS, nodeR)"
   ]
  },
  {
   "cell_type": "markdown",
   "metadata": {},
   "source": [
    "## Breadth-First Search\n",
    "\n",
    "For this algorithm, the frontier is better to be represented with a FIFO (first-in-first-out) queue, which in python can be a usual queue or even a list"
   ]
  },
  {
   "cell_type": "code",
   "execution_count": 16,
   "metadata": {},
   "outputs": [
    {
     "name": "stdout",
     "output_type": "stream",
     "text": [
      "Alice\n",
      "Bob\n",
      "Charlie\n"
     ]
    }
   ],
   "source": [
    "from queue import Queue\n",
    "namequeue = Queue()\n",
    "# Add elements\n",
    "namequeue.put(\"Alice\")\n",
    "namequeue.put(\"Bob\")\n",
    "namequeue.put(\"Charlie\")\n",
    "\n",
    "# Remove elements\n",
    "print(namequeue.get())\n",
    "print(namequeue.get())\n",
    "print(namequeue.get())"
   ]
  },
  {
   "cell_type": "code",
   "execution_count": 4,
   "metadata": {},
   "outputs": [
    {
     "name": "stdout",
     "output_type": "stream",
     "text": [
      "Alice\n",
      "Bob\n",
      "Charlie\n"
     ]
    }
   ],
   "source": [
    "namelist = []\n",
    "namelist.append(\"Charlie\")\n",
    "namelist.append(\"Bob\")\n",
    "namelist.append(\"Alice\")\n",
    "\n",
    "# Remove elements\n",
    "print(namelist.pop())\n",
    "print(namelist.pop())\n",
    "print(namelist.pop())"
   ]
  },
  {
   "cell_type": "markdown",
   "metadata": {},
   "source": [
    "Now we moving through the above graph using BFT. Implement the `bfs_search` to return the `GraphNode` with the value `search_value` starting at the `root_node`."
   ]
  },
  {
   "cell_type": "code",
   "execution_count": 18,
   "metadata": {},
   "outputs": [],
   "source": [
    "def bfs_search(root_node, search_value):\n",
    "    bfs_frontier = Queue()\n",
    "    bfs_frontier.put(root_node)\n",
    "    bfs_explored = {}\n",
    "\n",
    "    while True:\n",
    "        if bfs_frontier.empty():\n",
    "            return False\n",
    "\n",
    "        # get (shallowest) node from frontier\n",
    "        # ensured to be shallowest as frontier is FIFO\n",
    "        current_node = bfs_frontier.get()\n",
    "        # note: we don't check gold state here!\n",
    "        bfs_explored.add(current_node)\n",
    "\n",
    "        # consider the result of each possible action on \n",
    "        # the current node\n",
    "        for next_node in current_node.children:\n",
    "            # bfs_frontier is not iterable but bfs_frontier.queue is\n",
    "            if (\n",
    "                (next_node not in bfs_explored) and (next_node not in bfs_frontier.queue) \n",
    "                ):\n",
    "                if next_node.value == search_value:\n",
    "                    # return child node if condition is satisfied\n",
    "                    # next_node is goal\n",
    "                    return next_node\n",
    "                # add child nodes to the frontier\n",
    "                bfs_frontier.put(next_node)\n"
   ]
  },
  {
   "cell_type": "code",
   "execution_count": 19,
   "metadata": {},
   "outputs": [],
   "source": [
    "assert nodeA == bfs_search(nodeS, 'A')\n",
    "assert nodeS == bfs_search(nodeP, 'S')\n",
    "assert nodeR == bfs_search(nodeH, 'R')"
   ]
  },
  {
   "cell_type": "markdown",
   "metadata": {},
   "source": [
    "### Faster solution (Udacity)"
   ]
  },
  {
   "cell_type": "code",
   "execution_count": null,
   "metadata": {},
   "outputs": [],
   "source": [
    "# Solution\n",
    "def bfs_search(root_node, search_value):\n",
    "    visited = set()                           # Sets are faster while lookup. Lists are faster to iterate.\n",
    "    queue = [root_node]\n",
    "    \n",
    "    while len(queue) > 0:\n",
    "        current_node = queue.pop(0)\n",
    "        visited.add(current_node)\n",
    "\n",
    "        if current_node.value == search_value:\n",
    "            return current_node\n",
    "\n",
    "        for child in current_node.children:\n",
    "            if child not in visited:          # Lookup\n",
    "                queue.append(child)\n"
   ]
  },
  {
   "cell_type": "markdown",
   "metadata": {},
   "source": []
  }
 ],
 "metadata": {
  "interpreter": {
   "hash": "d0745d38709d2eed305598fc26f68c70903163d324fde3a78d4eef045228a943"
  },
  "kernelspec": {
   "display_name": "Python 3.7.3 ('base')",
   "language": "python",
   "name": "python3"
  },
  "language_info": {
   "codemirror_mode": {
    "name": "ipython",
    "version": 3
   },
   "file_extension": ".py",
   "mimetype": "text/x-python",
   "name": "python",
   "nbconvert_exporter": "python",
   "pygments_lexer": "ipython3",
   "version": "3.7.3"
  },
  "orig_nbformat": 4
 },
 "nbformat": 4,
 "nbformat_minor": 2
}
