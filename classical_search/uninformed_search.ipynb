{
 "cells": [
  {
   "cell_type": "markdown",
   "metadata": {},
   "source": [
    "# Uninformed Search\n",
    "\n",
    "This is the most basic form of seach.It implies trying to reach a goal state with no knowledge of where such goal state is.\n",
    "\n",
    "Threfore, every possible strategy will just move from one node to another and check whether we reached the goal state or not. It will keep expanding until we reach the goal state.\n",
    "\n",
    "We have an intrinsic measure of distance (or better, a *cost*) within a graph of nodes and paths, even if the absence of knowledge regarding the gold state: the number of steps associated to a given path. We can also consider adding other measure of distance given for example by the number of kilometers between the start state and our current state.\n",
    "\n",
    "Given a graph with a cost defined for the paths, we can imagine 3 ways of searching.\n",
    "\n",
    "- **Breadth-First Search (BFS)**: We start out with the root node and then expand the so-called frotier of examined nodes by considering other nodes that have the same *depth*. Here, the same depth means that the distance between the root node and each of the next-to-consider nodes is the same. In terms of the picture of a tree, this implies considering first expansions of the same depth. When there are ties (i.e. two nodes are one step away from current node) we can just pick one at random or use some rule of thumb.\n",
    "\n",
    "- **Depth-First Search (DFS)**: We expand the *deepest* node in the current frontier of the tree. This means that the search proceeds to the deepest level of the current node, up to the point where nodes have no successors. As those nodes are exanded, they are removed from the frontier, so then the algorithm backs up to the next deepest node. \n",
    "\n",
    "\n",
    "![BFSvsDFS](./DFSBFS.png)\n",
    "\n",
    "The implementation of Uninformed Search in pseudocode is a follows:\n",
    "\n",
    "\n",
    "```function Graph.Search(problem):\n",
    "  frontier = {[initial]}; explored={}\n",
    "  loop:\n",
    "    if frontier is empty: return FAIL\n",
    "    path = remove.choice(frontier)\n",
    "    s = path.end; add s to explored\n",
    "    if s is a goal: return path\n",
    "    for a in actions:\n",
    "        add[path + a -> Result(s,a)]\n",
    "        to frontier\n",
    "        unless Result(s,a) in frontier or explored\n",
    "```\n",
    "\n",
    "So we first have a frontier initialized with with the root node as the only node. Then, we remove a path from the frontier and consider the state `s` that the removed path leads to. Then we add `s` to the explored list. If `s` is the goal state, we return the path. If not, we add to the frontier all the paths that can be constructed starting from `s` and adding each and all of the possible actions `a` (we do this unless `s+a` is in the explored list or is already in the frontier).\n",
    "\n",
    "The difference between BFS and DFS is simply the path that is removed from the frontier at each iteration, i.e. the particular function or routine that we apply the line `path = remove.choice(frontier)` above. \n"
   ]
  },
  {
   "cell_type": "markdown",
   "metadata": {},
   "source": [
    "## Graph"
   ]
  },
  {
   "cell_type": "code",
   "execution_count": 4,
   "metadata": {},
   "outputs": [],
   "source": [
    "class GraphNode(object):\n",
    "    def __init__(self, val):\n",
    "        self.value = val\n",
    "        self.children = []\n",
    "        \n",
    "    def add_child(self, new_node):\n",
    "        self.children.append(new_node)\n",
    "    \n",
    "    def remove_child(self, del_node):\n",
    "        if del_node in self.children:\n",
    "            self.children.remove(del_node)\n",
    "\n",
    "class Graph(object):\n",
    "    def __init__(self, node_list):\n",
    "        self.nodes = node_list\n",
    "        \n",
    "    def add_edge(self, node1, node2):\n",
    "        if(node1 in self.nodes and node2 in self.nodes):\n",
    "            node1.add_child(node2)\n",
    "            node2.add_child(node1)\n",
    "            \n",
    "    def remove_edge(self, node1, node2):\n",
    "        if(node1 in self.nodes and node2 in self.nodes):\n",
    "            node1.remove_child(node2)\n",
    "            node2.remove_child(node1)"
   ]
  },
  {
   "cell_type": "code",
   "execution_count": 224,
   "metadata": {},
   "outputs": [],
   "source": [
    "# create a graph\n",
    "nodeG = GraphNode('G')\n",
    "nodeR = GraphNode('R')\n",
    "nodeA = GraphNode('A')\n",
    "nodeP = GraphNode('P')\n",
    "nodeH = GraphNode('H')\n",
    "nodeS = GraphNode('S')\n",
    "\n",
    "graph1 = Graph([nodeS, nodeH, nodeG, nodeP, nodeR, nodeA]) \n",
    "graph1.add_edge(nodeG, nodeR)\n",
    "graph1.add_edge(nodeA, nodeR)\n",
    "graph1.add_edge(nodeA, nodeG)\n",
    "graph1.add_edge(nodeR, nodeP)\n",
    "graph1.add_edge(nodeH, nodeG)\n",
    "graph1.add_edge(nodeH, nodeP)\n",
    "graph1.add_edge(nodeS, nodeR)"
   ]
  },
  {
   "cell_type": "code",
   "execution_count": 6,
   "metadata": {},
   "outputs": [
    {
     "name": "stdout",
     "output_type": "stream",
     "text": [
      "parent node =  S\n",
      "children\n",
      "R \n",
      "\n",
      "parent node =  H\n",
      "children\n",
      "G P \n",
      "\n",
      "parent node =  G\n",
      "children\n",
      "R A H \n",
      "\n",
      "parent node =  P\n",
      "children\n",
      "R H \n",
      "\n",
      "parent node =  R\n",
      "children\n",
      "G A P S \n",
      "\n",
      "parent node =  A\n",
      "children\n",
      "R G \n",
      "\n"
     ]
    }
   ],
   "source": [
    "# To verify that the graph is created accurately.\n",
    "# Let's just print all the parent nodes and child nodes.\n",
    "for each in graph1.nodes:\n",
    "    print('parent node = ',each.value,end='\\nchildren\\n')\n",
    "    for each in each.children:\n",
    "        print(each.value,end=' ')\n",
    "    print('\\n')"
   ]
  },
  {
   "cell_type": "markdown",
   "metadata": {},
   "source": [
    "## Breadth-First Search\n",
    "\n",
    "For this algorithm, the frontier is better to be represented with a FIFO (first-in-first-out) queue, which in python can be a usual queue or even a list"
   ]
  },
  {
   "cell_type": "code",
   "execution_count": 16,
   "metadata": {},
   "outputs": [
    {
     "name": "stdout",
     "output_type": "stream",
     "text": [
      "Alice\n",
      "Bob\n",
      "Charlie\n"
     ]
    }
   ],
   "source": [
    "from queue import Queue\n",
    "namequeue = Queue()\n",
    "# Add elements\n",
    "namequeue.put(\"Alice\")\n",
    "namequeue.put(\"Bob\")\n",
    "namequeue.put(\"Charlie\")\n",
    "\n",
    "# Remove elements\n",
    "print(namequeue.get())\n",
    "print(namequeue.get())\n",
    "print(namequeue.get())"
   ]
  },
  {
   "cell_type": "code",
   "execution_count": 4,
   "metadata": {},
   "outputs": [
    {
     "name": "stdout",
     "output_type": "stream",
     "text": [
      "Alice\n",
      "Bob\n",
      "Charlie\n"
     ]
    }
   ],
   "source": [
    "namelist = []\n",
    "namelist.append(\"Charlie\")\n",
    "namelist.append(\"Bob\")\n",
    "namelist.append(\"Alice\")\n",
    "\n",
    "# Remove elements\n",
    "print(namelist.pop())\n",
    "print(namelist.pop())\n",
    "print(namelist.pop())"
   ]
  },
  {
   "cell_type": "markdown",
   "metadata": {},
   "source": [
    "Now we moving through the above graph using BFT. Implement the `bfs_search` to return the `GraphNode` with the value `search_value` starting at the `root_node`."
   ]
  },
  {
   "cell_type": "code",
   "execution_count": 18,
   "metadata": {},
   "outputs": [],
   "source": [
    "def bfs_search(root_node, search_value):\n",
    "    bfs_frontier = Queue()\n",
    "    bfs_frontier.put(root_node)\n",
    "    bfs_explored = {}\n",
    "\n",
    "    while True:\n",
    "        if bfs_frontier.empty():\n",
    "            return False\n",
    "\n",
    "        # get (shallowest) node from frontier\n",
    "        # ensured to be shallowest as frontier is FIFO\n",
    "        current_node = bfs_frontier.get()\n",
    "        # note: we don't check gold state here!\n",
    "        bfs_explored.add(current_node)\n",
    "\n",
    "        # consider the result of each possible action on \n",
    "        # the current node\n",
    "        for next_node in current_node.children:\n",
    "            # bfs_frontier is not iterable but bfs_frontier.queue is\n",
    "            if (\n",
    "                (next_node not in bfs_explored) and (next_node not in bfs_frontier.queue) \n",
    "                ):\n",
    "                if next_node.value == search_value:\n",
    "                    # return child node if condition is satisfied\n",
    "                    # next_node is goal\n",
    "                    return next_node\n",
    "                # add child nodes to the frontier\n",
    "                bfs_frontier.put(next_node)\n"
   ]
  },
  {
   "cell_type": "code",
   "execution_count": 19,
   "metadata": {},
   "outputs": [],
   "source": [
    "assert nodeA == bfs_search(nodeS, 'A')\n",
    "assert nodeS == bfs_search(nodeP, 'S')\n",
    "assert nodeR == bfs_search(nodeH, 'R')"
   ]
  },
  {
   "cell_type": "markdown",
   "metadata": {},
   "source": [
    "### Faster solution (Udacity)"
   ]
  },
  {
   "cell_type": "code",
   "execution_count": null,
   "metadata": {},
   "outputs": [],
   "source": [
    "# Solution\n",
    "def bfs_search(root_node, search_value):\n",
    "    visited = set()                           # Sets are faster while lookup. Lists are faster to iterate.\n",
    "    queue = [root_node]\n",
    "    \n",
    "    while len(queue) > 0:\n",
    "        current_node = queue.pop(0)\n",
    "        visited.add(current_node)\n",
    "\n",
    "        if current_node.value == search_value:\n",
    "            return current_node\n",
    "\n",
    "        for child in current_node.children:\n",
    "            if child not in visited:          # Lookup\n",
    "                queue.append(child)\n"
   ]
  },
  {
   "cell_type": "markdown",
   "metadata": {},
   "source": [
    "## Depth-First search\n",
    "\n",
    "For this type of search a LIFO (last-in-first-out) queue is used to model the frontier, as the latest node to be incorporated is also the first one wose children will be considered."
   ]
  },
  {
   "cell_type": "code",
   "execution_count": 1,
   "metadata": {},
   "outputs": [
    {
     "name": "stdout",
     "output_type": "stream",
     "text": [
      "Charlie\n",
      "Bob\n",
      "Alice\n"
     ]
    }
   ],
   "source": [
    "import queue\n",
    "lifonamequeue = queue.LifoQueue()\n",
    "# Add elements\n",
    "lifonamequeue.put(\"Alice\")\n",
    "lifonamequeue.put(\"Bob\")\n",
    "lifonamequeue.put(\"Charlie\")\n",
    "\n",
    "# Remove elements\n",
    "print(lifonamequeue.get())\n",
    "print(lifonamequeue.get())\n",
    "print(lifonamequeue.get())\n"
   ]
  },
  {
   "cell_type": "markdown",
   "metadata": {},
   "source": [
    "We see that the last element to be put is the first one out. In this sense, it goes contrary to a LIFO queue."
   ]
  },
  {
   "cell_type": "code",
   "execution_count": 241,
   "metadata": {},
   "outputs": [],
   "source": [
    "def dfs_search_recursion(start_node, search_value, visited_nodes = set(), lifo_nodes=[]):\n",
    "    # start_node works also as current node\n",
    "    # finish if the find the goal\n",
    "    if start_node.value == search_value:\n",
    "        return start_node\n",
    "\n",
    "    # add current node to visited nodes\n",
    "    visited_nodes.add(start_node)\n",
    "    # add all the non-visited children of the current node\n",
    "    # (located at the end of the LIFO queue!)\n",
    "    lifo_nodes.extend(list(set(start_node.children) - set(visited_nodes)))\n",
    "    \n",
    "\n",
    "    while len(lifo_nodes) > 0:\n",
    "        # extract the last node from the LIFO queue\n",
    "        # this will be one of the latest added nodes\n",
    "        child = lifo_nodes.pop(-1)\n",
    "        # process most-recently added children first: DFS\n",
    "        if child not in visited_nodes: # redundant in principle: kept just in case\n",
    "            return dfs_search_recursion(child, search_value, visited_nodes, lifo_nodes)"
   ]
  },
  {
   "cell_type": "code",
   "execution_count": 242,
   "metadata": {},
   "outputs": [],
   "source": [
    "assert nodeA == dfs_search_recursion(nodeG, 'A', visited_nodes = set(), lifo_nodes=[])\n",
    "assert nodeA == dfs_search_recursion(nodeS, 'A', visited_nodes = set(), lifo_nodes=[])\n",
    "assert nodeS == dfs_search_recursion(nodeP, 'S', visited_nodes = set(), lifo_nodes=[])\n",
    "assert nodeR == dfs_search_recursion(nodeH, 'R', visited_nodes = set(), lifo_nodes=[])"
   ]
  },
  {
   "cell_type": "code",
   "execution_count": 243,
   "metadata": {},
   "outputs": [
    {
     "name": "stdout",
     "output_type": "stream",
     "text": [
      "0\n",
      "10000\n",
      "20000\n",
      "30000\n",
      "40000\n",
      "50000\n",
      "60000\n",
      "70000\n",
      "80000\n",
      "90000\n"
     ]
    }
   ],
   "source": [
    "for i in range(100000):\n",
    "    if i % 10000 == 0:\n",
    "        print(i)\n",
    "    if dfs_search_recursion(nodeG, 'A', visited_nodes = set(), lifo_nodes=[]).value  != 'A':\n",
    "        print('errr')\n",
    "        break"
   ]
  },
  {
   "cell_type": "markdown",
   "metadata": {},
   "source": [
    "### Udacity's solution (WRONG!)"
   ]
  },
  {
   "cell_type": "code",
   "execution_count": 233,
   "metadata": {},
   "outputs": [],
   "source": [
    "# Solution\n",
    "def dfs_recursion_start(start_node, search_value):\n",
    "    visited = set()               # Set to keep track of visited nodes.\n",
    "    return dfs_recursion(start_node, visited, search_value)\n",
    "\n",
    "# Recursive function\n",
    "def dfs_recursion(node, visited, search_value):\n",
    "    if node.value == search_value:\n",
    "        found = True              # Don't search in other branches, if found = True\n",
    "        return node\n",
    "    \n",
    "    visited.add(node)\n",
    "    found = False\n",
    "    result = None\n",
    "\n",
    "    # Conditional recurse on each neighbour\n",
    "    for child in node.children:\n",
    "        if (child not in visited):\n",
    "                result = dfs_recursion(child, visited, search_value)\n",
    "                \n",
    "                # Once the match is found, no more recurse \n",
    "                if found:\n",
    "                    break\n",
    "    return result"
   ]
  },
  {
   "cell_type": "markdown",
   "metadata": {},
   "source": [
    "Hi,\n",
    "\n",
    "I have noticed that if I remove the direct connection `G <-> A` in the graph defined in the exercise notebook of the DFS algorithm I get an assertion error in the following line:\n",
    "\n",
    "`assert nodeA == dfs_recursion_start(nodeG, 'A')`\n",
    "\n",
    "However, I would expect the DFS algorithm to still find the goal node through the path `G -> R -> A`, so there should be some issue with the proposed solution.\n",
    "\n",
    "Assuming that I am not missing anything, I believe that the problem has to do with the fact that reassignment\n",
    "\n",
    "`found = True`\n",
    "\n",
    "has only the scope of the current node, and not on the previous node in the recursive function. Therefore, the break condition within the loop is not always triggered when it should.\n",
    "\n",
    "I think that the current solution will crash whenever the goal node is a leaf node that is not directly connected with start_node, and the reason why it works for the graph currently defined in the exercise if because there is an interplay between visited nodes and connections so that the goal node happens to always be the last node to be checked.\n",
    "\n",
    "Is there anything that I am not interpreting correctly?\n",
    "\n",
    "Thanks"
   ]
  },
  {
   "cell_type": "code",
   "execution_count": 235,
   "metadata": {},
   "outputs": [
    {
     "ename": "AssertionError",
     "evalue": "",
     "output_type": "error",
     "traceback": [
      "\u001b[1;31m---------------------------------------------------------------------------\u001b[0m",
      "\u001b[1;31mAssertionError\u001b[0m                            Traceback (most recent call last)",
      "\u001b[1;32m<ipython-input-235-ee4a7770a5bc>\u001b[0m in \u001b[0;36m<module>\u001b[1;34m\u001b[0m\n\u001b[0;32m     16\u001b[0m \u001b[0mgraph1\u001b[0m\u001b[1;33m.\u001b[0m\u001b[0madd_edge\u001b[0m\u001b[1;33m(\u001b[0m\u001b[0mnodeS\u001b[0m\u001b[1;33m,\u001b[0m \u001b[0mnodeR\u001b[0m\u001b[1;33m)\u001b[0m\u001b[1;33m\u001b[0m\u001b[1;33m\u001b[0m\u001b[0m\n\u001b[0;32m     17\u001b[0m \u001b[1;33m\u001b[0m\u001b[0m\n\u001b[1;32m---> 18\u001b[1;33m \u001b[1;32massert\u001b[0m \u001b[0mnodeA\u001b[0m \u001b[1;33m==\u001b[0m \u001b[0mdfs_recursion_start\u001b[0m\u001b[1;33m(\u001b[0m\u001b[0mnodeG\u001b[0m\u001b[1;33m,\u001b[0m \u001b[1;34m'A'\u001b[0m\u001b[1;33m)\u001b[0m\u001b[1;33m\u001b[0m\u001b[1;33m\u001b[0m\u001b[0m\n\u001b[0m\u001b[0;32m     19\u001b[0m \u001b[1;32massert\u001b[0m \u001b[0mnodeA\u001b[0m \u001b[1;33m==\u001b[0m \u001b[0mdfs_recursion_start\u001b[0m\u001b[1;33m(\u001b[0m\u001b[0mnodeS\u001b[0m\u001b[1;33m,\u001b[0m \u001b[1;34m'A'\u001b[0m\u001b[1;33m)\u001b[0m\u001b[1;33m\u001b[0m\u001b[1;33m\u001b[0m\u001b[0m\n\u001b[0;32m     20\u001b[0m \u001b[1;32massert\u001b[0m \u001b[0mnodeS\u001b[0m \u001b[1;33m==\u001b[0m \u001b[0mdfs_recursion_start\u001b[0m\u001b[1;33m(\u001b[0m\u001b[0mnodeP\u001b[0m\u001b[1;33m,\u001b[0m \u001b[1;34m'S'\u001b[0m\u001b[1;33m)\u001b[0m\u001b[1;33m\u001b[0m\u001b[1;33m\u001b[0m\u001b[0m\n",
      "\u001b[1;31mAssertionError\u001b[0m: "
     ]
    }
   ],
   "source": [
    "# create a graph\n",
    "nodeG = GraphNode('G')\n",
    "nodeR = GraphNode('R')\n",
    "nodeA = GraphNode('A')\n",
    "nodeP = GraphNode('P')\n",
    "nodeH = GraphNode('H')\n",
    "nodeS = GraphNode('S')\n",
    "\n",
    "graph1 = Graph([nodeS, nodeH, nodeG, nodeP, nodeR, nodeA]) \n",
    "graph1.add_edge(nodeG, nodeR)\n",
    "graph1.add_edge(nodeA, nodeR)\n",
    "#graph1.add_edge(nodeA, nodeG)\n",
    "graph1.add_edge(nodeR, nodeP)\n",
    "graph1.add_edge(nodeH, nodeG)\n",
    "graph1.add_edge(nodeH, nodeP)\n",
    "graph1.add_edge(nodeS, nodeR)\n",
    "\n",
    "assert nodeA == dfs_recursion_start(nodeG, 'A')\n",
    "assert nodeA == dfs_recursion_start(nodeS, 'A')\n",
    "assert nodeS == dfs_recursion_start(nodeP, 'S')\n",
    "assert nodeR == dfs_recursion_start(nodeH, 'R')"
   ]
  },
  {
   "cell_type": "markdown",
   "metadata": {},
   "source": [
    "### Correcting Udacity's solution\n",
    "\n",
    "Basically we can write a workaround for Udacity's solution while keeping as much as the original code as possible by simply ensuring that variable `found` is propagated as expected."
   ]
  },
  {
   "cell_type": "code",
   "execution_count": 236,
   "metadata": {},
   "outputs": [],
   "source": [
    "# Solution\n",
    "def dfs_recursion_start(start_node, search_value):\n",
    "    visited = set()               # Set to keep track of visited nodes.\n",
    "    return dfs_recursion(start_node, visited, search_value)\n",
    "\n",
    "# Recursive function\n",
    "def dfs_recursion(node, visited, search_value):\n",
    "    if node.value == search_value:\n",
    "        return node, True\n",
    "    visited.add(node)\n",
    "    found = False\n",
    "    result = None\n",
    "\n",
    "    # Conditional recurse on each neighbour\n",
    "    for child in node.children:\n",
    "        if (child not in visited):\n",
    "                result, found = dfs_recursion(child, visited, search_value)\n",
    "                # Once the match is found, no more recurse \n",
    "                if found:\n",
    "                    break\n",
    "    return result, found"
   ]
  },
  {
   "cell_type": "code",
   "execution_count": 240,
   "metadata": {},
   "outputs": [],
   "source": [
    "# create a graph\n",
    "nodeG = GraphNode('G')\n",
    "nodeR = GraphNode('R')\n",
    "nodeA = GraphNode('A')\n",
    "nodeP = GraphNode('P')\n",
    "nodeH = GraphNode('H')\n",
    "nodeS = GraphNode('S')\n",
    "\n",
    "graph1 = Graph([nodeS, nodeH, nodeG, nodeP, nodeR, nodeA]) \n",
    "graph1.add_edge(nodeG, nodeR)\n",
    "graph1.add_edge(nodeA, nodeR)\n",
    "#graph1.add_edge(nodeA, nodeG)\n",
    "graph1.add_edge(nodeR, nodeP)\n",
    "graph1.add_edge(nodeH, nodeG)\n",
    "graph1.add_edge(nodeH, nodeP)\n",
    "graph1.add_edge(nodeS, nodeR)\n",
    "\n",
    "assert nodeA == dfs_recursion_start(nodeG, 'A')[0]\n",
    "assert nodeA == dfs_recursion_start(nodeS, 'A')[0]\n",
    "assert nodeS == dfs_recursion_start(nodeP, 'S')[0]\n",
    "assert nodeR == dfs_recursion_start(nodeH, 'R')[0]"
   ]
  }
 ],
 "metadata": {
  "interpreter": {
   "hash": "d0745d38709d2eed305598fc26f68c70903163d324fde3a78d4eef045228a943"
  },
  "kernelspec": {
   "display_name": "Python 3.7.3 ('base')",
   "language": "python",
   "name": "python3"
  },
  "language_info": {
   "codemirror_mode": {
    "name": "ipython",
    "version": 3
   },
   "file_extension": ".py",
   "mimetype": "text/x-python",
   "name": "python",
   "nbconvert_exporter": "python",
   "pygments_lexer": "ipython3",
   "version": "3.7.3"
  },
  "orig_nbformat": 4
 },
 "nbformat": 4,
 "nbformat_minor": 2
}
